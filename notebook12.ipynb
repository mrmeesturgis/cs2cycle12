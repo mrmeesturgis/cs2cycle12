{
 "cells": [
  {
   "cell_type": "markdown",
   "id": "d8bba665",
   "metadata": {},
   "source": [
    "<img src=\"https://www.sturgischarterschool.com/wp-content/uploads/2019/06/sturgisheader_logo.png\" alt=\"sturgis\" width=\"250\" align=\"right\"/>\n",
    "\n",
    "## Computer Science 'May I Recommend Part 2' notebook 12\n",
    "### Sturgis Charter Public School \n",
    "\n"
   ]
  },
  {
   "cell_type": "markdown",
   "id": "681696fb",
   "metadata": {},
   "source": [
    "Student: [your name here]\n",
    "\n",
    "Collaborators: [N/A]\n",
    "\n",
    "Notes to the teacher: [N/A]"
   ]
  },
  {
   "cell_type": "markdown",
   "id": "16bf0839",
   "metadata": {},
   "source": [
    "### Learning Objectives for notebook \n",
    "\n",
    "Part II\n",
    "\n",
    "* Matrix Operations\n",
    "* Mean Square Error\n",
    "* Gradient Descent\n",
    "* Matrix Factorization\n"
   ]
  },
  {
   "cell_type": "markdown",
   "id": "30ae9843",
   "metadata": {},
   "source": [
    "Note: All code used in this notebook pertaining to matrix factorization is from [Denise Chen](https://towardsdatascience.com/recommendation-system-matrix-factorization-d61978660b4b), who has an awesome article on exactly this topic. \n",
    "\n",
    "#### Matrix Operations\n",
    "\n",
    "Dot product\n",
    "\n",
    "#### Mean Square Error\n",
    "\n",
    "#### Gradient Descent\n",
    "\n",
    "#### Matrix Factorization"
   ]
  },
  {
   "cell_type": "code",
   "execution_count": null,
   "id": "fb3eb272",
   "metadata": {},
   "outputs": [],
   "source": [
    "#Let's load two csv's\n",
    "import pandas as pd\n",
    "usf = pd.read_csv('User_Features.csv')\n",
    "itf = pd.read_csv('Item_Features.csv')"
   ]
  },
  {
   "cell_type": "code",
   "execution_count": null,
   "id": "ccea8551",
   "metadata": {},
   "outputs": [],
   "source": [
    "usf = usf.head(10)\n",
    "itf = itf.head(10)"
   ]
  },
  {
   "cell_type": "code",
   "execution_count": null,
   "id": "50a1b672",
   "metadata": {},
   "outputs": [],
   "source": [
    "usf = usf.iloc[:,1:5]"
   ]
  },
  {
   "cell_type": "code",
   "execution_count": null,
   "id": "3f0f2a18",
   "metadata": {},
   "outputs": [],
   "source": [
    "itf = itf.iloc[:,1:5]"
   ]
  },
  {
   "cell_type": "code",
   "execution_count": null,
   "id": "e69349fa",
   "metadata": {},
   "outputs": [],
   "source": [
    "usf"
   ]
  },
  {
   "cell_type": "code",
   "execution_count": null,
   "id": "6d962e55",
   "metadata": {},
   "outputs": [],
   "source": [
    "itf = itf.T\n",
    "itf"
   ]
  },
  {
   "cell_type": "code",
   "execution_count": null,
   "id": "e555ec42",
   "metadata": {},
   "outputs": [],
   "source": [
    "usf.dot(itf)"
   ]
  },
  {
   "cell_type": "code",
   "execution_count": null,
   "id": "e0e03b24",
   "metadata": {},
   "outputs": [],
   "source": [
    "\n",
    "import numpy\n",
    "\n",
    "def matrix_factorization(R, P, Q, K, steps=5000, alpha=0.0002, beta=0.02):\n",
    "    '''\n",
    "    R: rating matrix\n",
    "    P: |U| * K (User features matrix)\n",
    "    Q: |D| * K (Item features matrix)\n",
    "    K: latent features\n",
    "    steps: iterations\n",
    "    alpha: learning rate\n",
    "    beta: regularization parameter'''\n",
    "    Q = Q.T\n",
    "\n",
    "    for step in range(steps):\n",
    "        for i in range(len(R)):\n",
    "            for j in range(len(R[i])):\n",
    "                if R[i][j] > 0:\n",
    "                    # calculate error\n",
    "                    eij = R[i][j] - numpy.dot(P[i,:],Q[:,j])\n",
    "\n",
    "                    for k in range(K):\n",
    "                        # calculate gradient with a and beta parameter\n",
    "                        P[i][k] = P[i][k] + alpha * (2 * eij * Q[k][j] - beta * P[i][k])\n",
    "                        Q[k][j] = Q[k][j] + alpha * (2 * eij * P[i][k] - beta * Q[k][j])\n",
    "\n",
    "        eR = numpy.dot(P,Q)\n",
    "\n",
    "        e = 0\n",
    "\n",
    "        for i in range(len(R)):\n",
    "\n",
    "            for j in range(len(R[i])):\n",
    "\n",
    "                if R[i][j] > 0:\n",
    "\n",
    "                    e = e + pow(R[i][j] - numpy.dot(P[i,:],Q[:,j]), 2)\n",
    "\n",
    "                    for k in range(K):\n",
    "\n",
    "                        e = e + (beta/2) * (pow(P[i][k],2) + pow(Q[k][j],2))\n",
    "        # 0.001: local minimum\n",
    "        if e < 0.001:\n",
    "\n",
    "            break\n",
    "\n",
    "    return P, Q.T"
   ]
  },
  {
   "cell_type": "code",
   "execution_count": null,
   "id": "b1f6650e",
   "metadata": {},
   "outputs": [],
   "source": [
    "R = [\n",
    "\n",
    "     [5,3,0,1],\n",
    "\n",
    "     [4,0,0,1],\n",
    "\n",
    "     [1,1,0,5],\n",
    "\n",
    "     [1,0,0,4],\n",
    "\n",
    "     [0,1,5,4],\n",
    "    \n",
    "     [2,1,3,0],\n",
    "\n",
    "    ]\n",
    "\n",
    "R = numpy.array(R)\n",
    "# N: num of User\n",
    "N = len(R)\n",
    "# M: num of Movie\n",
    "M = len(R[0])\n",
    "# Num of Features\n",
    "K = 3\n",
    "\n",
    " \n",
    "P = numpy.random.rand(N,K)\n",
    "Q = numpy.random.rand(M,K)\n",
    "\n",
    " \n",
    "\n",
    "nP, nQ = matrix_factorization(R, P, Q, K)\n",
    "\n",
    "nR = numpy.dot(nP, nQ.T)"
   ]
  },
  {
   "cell_type": "code",
   "execution_count": null,
   "id": "16257bff",
   "metadata": {},
   "outputs": [],
   "source": [
    "nR"
   ]
  },
  {
   "cell_type": "markdown",
   "id": "3f72efda",
   "metadata": {},
   "source": [
    "### Question 1 (and only one :) \n",
    "\n",
    "Use the above code, and the above example csv files for user and item features, and implement gradient descent. You should end up with an `R` dataframe that has no zeros in it. Remember the `R` dataframe is the combination of the `P`--User Features--and `Q`--Item Features dataframes."
   ]
  },
  {
   "cell_type": "code",
   "execution_count": null,
   "id": "ad74d844",
   "metadata": {},
   "outputs": [],
   "source": [
    "#Your code here"
   ]
  },
  {
   "cell_type": "markdown",
   "id": "791d8c55",
   "metadata": {},
   "source": [
    "### Stretch Goal: Use item and user features from the previous notebook\n",
    "\n",
    "This is definitely in the stretch goal category, but it would be awesome to have a recommender system that made a real recommendation, and not simply a mockaroo recommendation. This is NOT a requirement, and the only reward for all your hard work (which would be a lot of hard work) is the satisfaction of having built something awesome!"
   ]
  },
  {
   "cell_type": "code",
   "execution_count": null,
   "id": "e018d1be",
   "metadata": {},
   "outputs": [],
   "source": []
  }
 ],
 "metadata": {
  "kernelspec": {
   "display_name": "Python 3 (ipykernel)",
   "language": "python",
   "name": "python3"
  },
  "language_info": {
   "codemirror_mode": {
    "name": "ipython",
    "version": 3
   },
   "file_extension": ".py",
   "mimetype": "text/x-python",
   "name": "python",
   "nbconvert_exporter": "python",
   "pygments_lexer": "ipython3",
   "version": "3.9.7"
  }
 },
 "nbformat": 4,
 "nbformat_minor": 5
}
